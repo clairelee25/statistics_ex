{
 "cells": [
  {
   "cell_type": "markdown",
   "id": "130fd963-250c-4353-ace4-5d0815877778",
   "metadata": {},
   "source": [
    "# 쌍체 표본 t검정\n",
    "- 다이어트 전과 후의 차이가 유의한지 검정하기"
   ]
  },
  {
   "cell_type": "code",
   "execution_count": 13,
   "id": "99a16f87-b1bc-4dea-be3d-9045ac419d0d",
   "metadata": {},
   "outputs": [],
   "source": [
    "import pandas as pd"
   ]
  },
  {
   "cell_type": "code",
   "execution_count": 14,
   "id": "90bceb4e-ae7d-411a-a747-87f924248c0f",
   "metadata": {},
   "outputs": [
    {
     "data": {
      "text/html": [
       "<div>\n",
       "<style scoped>\n",
       "    .dataframe tbody tr th:only-of-type {\n",
       "        vertical-align: middle;\n",
       "    }\n",
       "\n",
       "    .dataframe tbody tr th {\n",
       "        vertical-align: top;\n",
       "    }\n",
       "\n",
       "    .dataframe thead th {\n",
       "        text-align: right;\n",
       "    }\n",
       "</style>\n",
       "<table border=\"1\" class=\"dataframe\">\n",
       "  <thead>\n",
       "    <tr style=\"text-align: right;\">\n",
       "      <th></th>\n",
       "      <th>다이어트전(kg)</th>\n",
       "      <th>다이어트후(kg)</th>\n",
       "    </tr>\n",
       "  </thead>\n",
       "  <tbody>\n",
       "    <tr>\n",
       "      <th>0</th>\n",
       "      <td>87.41</td>\n",
       "      <td>88.30</td>\n",
       "    </tr>\n",
       "    <tr>\n",
       "      <th>1</th>\n",
       "      <td>81.05</td>\n",
       "      <td>76.21</td>\n",
       "    </tr>\n",
       "    <tr>\n",
       "      <th>2</th>\n",
       "      <td>60.72</td>\n",
       "      <td>53.34</td>\n",
       "    </tr>\n",
       "    <tr>\n",
       "      <th>3</th>\n",
       "      <td>81.02</td>\n",
       "      <td>78.21</td>\n",
       "    </tr>\n",
       "    <tr>\n",
       "      <th>4</th>\n",
       "      <td>75.75</td>\n",
       "      <td>76.74</td>\n",
       "    </tr>\n",
       "  </tbody>\n",
       "</table>\n",
       "</div>"
      ],
      "text/plain": [
       "   다이어트전(kg)  다이어트후(kg)\n",
       "0      87.41      88.30\n",
       "1      81.05      76.21\n",
       "2      60.72      53.34\n",
       "3      81.02      78.21\n",
       "4      75.75      76.74"
      ]
     },
     "execution_count": 14,
     "metadata": {},
     "output_type": "execute_result"
    }
   ],
   "source": [
    "data_file = '다이어트약_효과검증.csv'\n",
    "#데이터 인코딩 방식 - 기본 : utf-8\n",
    "df = pd.read_csv(f'datas2/{data_file}') \n",
    "df.head()"
   ]
  },
  {
   "cell_type": "code",
   "execution_count": 15,
   "id": "c8fdf407-ca98-45c8-b176-0883a5347a7e",
   "metadata": {},
   "outputs": [
    {
     "data": {
      "text/plain": [
       "Index(['다이어트전(kg)', '다이어트후(kg)'], dtype='object')"
      ]
     },
     "execution_count": 15,
     "metadata": {},
     "output_type": "execute_result"
    }
   ],
   "source": [
    "df.columns"
   ]
  },
  {
   "cell_type": "markdown",
   "id": "211579db-2358-4f41-84c5-ea224a2aca4e",
   "metadata": {},
   "source": [
    "## 데이터 전처리"
   ]
  },
  {
   "cell_type": "code",
   "execution_count": 18,
   "id": "df5c839a-6844-4aff-8e6e-2b056c8cc1e8",
   "metadata": {},
   "outputs": [
    {
     "data": {
      "text/plain": [
       "0    87.41\n",
       "1    81.05\n",
       "2    60.72\n",
       "3    81.02\n",
       "4    75.75\n",
       "Name: 다이어트전(kg), dtype: float64"
      ]
     },
     "execution_count": 18,
     "metadata": {},
     "output_type": "execute_result"
    }
   ],
   "source": [
    "#다이어트전(kg)\n",
    "before = df['다이어트전(kg)']\n",
    "before.head()"
   ]
  },
  {
   "cell_type": "code",
   "execution_count": 19,
   "id": "d1f1a13e-021f-4ce0-b89c-ef4610eb434a",
   "metadata": {},
   "outputs": [
    {
     "data": {
      "text/plain": [
       "0    88.30\n",
       "1    76.21\n",
       "2    53.34\n",
       "3    78.21\n",
       "4    76.74\n",
       "Name: 다이어트후(kg), dtype: float64"
      ]
     },
     "execution_count": 19,
     "metadata": {},
     "output_type": "execute_result"
    }
   ],
   "source": [
    "#다이어트후 (kg)\n",
    "after = df['다이어트후(kg)']\n",
    "after.head()"
   ]
  },
  {
   "cell_type": "markdown",
   "id": "4a103981-b1e0-4f2a-88de-385f0bea8f03",
   "metadata": {},
   "source": [
    "## 정규성 검정\n",
    "- before와 after의 차이(d)가 정규분포를 따르는지 판단하기"
   ]
  },
  {
   "cell_type": "code",
   "execution_count": 21,
   "id": "8f3c83f5-5134-478c-af92-64be25ddf89a",
   "metadata": {},
   "outputs": [],
   "source": [
    "from scipy import stats as st"
   ]
  },
  {
   "cell_type": "code",
   "execution_count": 25,
   "id": "67b1bb16-5876-4dd0-8761-0a385939e269",
   "metadata": {},
   "outputs": [
    {
     "data": {
      "text/plain": [
       "ShapiroResult(statistic=np.float64(0.9724073061486513), pvalue=np.float64(0.2892093416018284))"
      ]
     },
     "execution_count": 25,
     "metadata": {},
     "output_type": "execute_result"
    }
   ],
   "source": [
    "# 유의 사향: 실험 후 값 - 실험 전 값\n",
    "st.shapiro(after - before)"
   ]
  },
  {
   "cell_type": "markdown",
   "id": "ecf25242-f06a-4b7e-b11a-d7e5ca30aee6",
   "metadata": {},
   "source": [
    "[해석]  \n",
    "- p-value > 0.05 이므로, 정규분포를 따른다는 것을 알 수 있음."
   ]
  },
  {
   "cell_type": "markdown",
   "id": "52a652d2-cdd4-466b-a503-1beb9cdbb4b7",
   "metadata": {},
   "source": [
    "## 쌍체 표본 t검정 수행하기"
   ]
  },
  {
   "cell_type": "code",
   "execution_count": 26,
   "id": "6c3a4471-6aae-408b-bb49-842cdf1d76f5",
   "metadata": {},
   "outputs": [
    {
     "data": {
      "text/plain": [
       "TtestResult(statistic=np.float64(9.70596986565785), pvalue=np.float64(5.370404098342324e-13), df=np.int64(49))"
      ]
     },
     "execution_count": 26,
     "metadata": {},
     "output_type": "execute_result"
    }
   ],
   "source": [
    "st.ttest_rel(before, after)"
   ]
  },
  {
   "cell_type": "code",
   "execution_count": null,
   "id": "797b829e-a93a-48e6-b06d-50ee720063b2",
   "metadata": {},
   "outputs": [],
   "source": []
  }
 ],
 "metadata": {
  "kernelspec": {
   "display_name": "eda_env",
   "language": "python",
   "name": "eda_env"
  },
  "language_info": {
   "codemirror_mode": {
    "name": "ipython",
    "version": 3
   },
   "file_extension": ".py",
   "mimetype": "text/x-python",
   "name": "python",
   "nbconvert_exporter": "python",
   "pygments_lexer": "ipython3",
   "version": "3.10.18"
  }
 },
 "nbformat": 4,
 "nbformat_minor": 5
}
