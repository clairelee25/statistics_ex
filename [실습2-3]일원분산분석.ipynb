{
 "cells": [
  {
   "cell_type": "markdown",
   "id": "c8529439-4c9a-409f-a429-37c3d934c14b",
   "metadata": {},
   "source": [
    "# 일원분산 (ANOVA) 분석"
   ]
  },
  {
   "cell_type": "code",
   "execution_count": 1,
   "id": "72cacb3f-17e5-4ff5-904a-199fb892c05e",
   "metadata": {},
   "outputs": [],
   "source": [
    "import pandas as pd"
   ]
  },
  {
   "cell_type": "code",
   "execution_count": 2,
   "id": "359763be-2102-41d5-a16c-f902b38b8c12",
   "metadata": {},
   "outputs": [
    {
     "data": {
      "text/html": [
       "<div>\n",
       "<style scoped>\n",
       "    .dataframe tbody tr th:only-of-type {\n",
       "        vertical-align: middle;\n",
       "    }\n",
       "\n",
       "    .dataframe tbody tr th {\n",
       "        vertical-align: top;\n",
       "    }\n",
       "\n",
       "    .dataframe thead th {\n",
       "        text-align: right;\n",
       "    }\n",
       "</style>\n",
       "<table border=\"1\" class=\"dataframe\">\n",
       "  <thead>\n",
       "    <tr style=\"text-align: right;\">\n",
       "      <th></th>\n",
       "      <th>일자</th>\n",
       "      <th>지점A</th>\n",
       "      <th>지점B</th>\n",
       "      <th>지점C</th>\n",
       "    </tr>\n",
       "  </thead>\n",
       "  <tbody>\n",
       "    <tr>\n",
       "      <th>0</th>\n",
       "      <td>1</td>\n",
       "      <td>124</td>\n",
       "      <td>118</td>\n",
       "      <td>216</td>\n",
       "    </tr>\n",
       "    <tr>\n",
       "      <th>1</th>\n",
       "      <td>2</td>\n",
       "      <td>147</td>\n",
       "      <td>141</td>\n",
       "      <td>214</td>\n",
       "    </tr>\n",
       "    <tr>\n",
       "      <th>2</th>\n",
       "      <td>3</td>\n",
       "      <td>129</td>\n",
       "      <td>130</td>\n",
       "      <td>212</td>\n",
       "    </tr>\n",
       "    <tr>\n",
       "      <th>3</th>\n",
       "      <td>4</td>\n",
       "      <td>123</td>\n",
       "      <td>127</td>\n",
       "      <td>179</td>\n",
       "    </tr>\n",
       "    <tr>\n",
       "      <th>4</th>\n",
       "      <td>5</td>\n",
       "      <td>147</td>\n",
       "      <td>107</td>\n",
       "      <td>222</td>\n",
       "    </tr>\n",
       "  </tbody>\n",
       "</table>\n",
       "</div>"
      ],
      "text/plain": [
       "   일자  지점A  지점B  지점C\n",
       "0   1  124  118  216\n",
       "1   2  147  141  214\n",
       "2   3  129  130  212\n",
       "3   4  123  127  179\n",
       "4   5  147  107  222"
      ]
     },
     "execution_count": 2,
     "metadata": {},
     "output_type": "execute_result"
    }
   ],
   "source": [
    "# 데이터 불러오기 및 확인\n",
    "df = pd.read_csv('datas2/지점별_일별판매량.csv', encoding = 'euc-kr')\n",
    "df.head()"
   ]
  },
  {
   "cell_type": "code",
   "execution_count": 13,
   "id": "9403f7f9-eb43-4c8d-9800-653b69f876b7",
   "metadata": {},
   "outputs": [
    {
     "name": "stdout",
     "output_type": "stream",
     "text": [
      "<class 'pandas.core.frame.DataFrame'>\n",
      "RangeIndex: 30 entries, 0 to 29\n",
      "Data columns (total 4 columns):\n",
      " #   Column  Non-Null Count  Dtype\n",
      "---  ------  --------------  -----\n",
      " 0   일자      30 non-null     int64\n",
      " 1   지점A     30 non-null     int64\n",
      " 2   지점B     30 non-null     int64\n",
      " 3   지점C     30 non-null     int64\n",
      "dtypes: int64(4)\n",
      "memory usage: 1.1 KB\n"
     ]
    }
   ],
   "source": [
    "df.info()"
   ]
  },
  {
   "cell_type": "code",
   "execution_count": 3,
   "id": "968f425e-40fe-4f2f-a5d8-71a282bca380",
   "metadata": {},
   "outputs": [],
   "source": [
    "# 데이터 분할 (결측이 포함되어 있을 수 있으므로 dropna를 사용)\n",
    "A = df['지점A'].dropna().values\n",
    "B = df['지점B'].dropna().values\n",
    "C = df['지점C'].dropna().values\n"
   ]
  },
  {
   "cell_type": "code",
   "execution_count": 4,
   "id": "c93017de-9fff-40a5-8507-12f7499c0c0b",
   "metadata": {},
   "outputs": [
    {
     "data": {
      "text/plain": [
       "<function matplotlib.pyplot.show(close=None, block=None)>"
      ]
     },
     "execution_count": 4,
     "metadata": {},
     "output_type": "execute_result"
    },
    {
     "data": {
      "image/png": "[encoded data removed]",
      "text/plain": [
       "<Figure size 1000x1000 with 1 Axes>"
      ]
     },
     "metadata": {},
     "output_type": "display_data"
    }
   ],
   "source": [
    "# 박스플롯으로 시각화\n",
    "from matplotlib import pyplot as plt\n",
    "plt.rcParams['font.family'] = 'Malgun Gothic'\n",
    "plt.rcParams['font.size'] = 20\n",
    "plt.rcParams['figure.figsize'] = (10, 10)\n",
    "plt.boxplot([A, B, C])\n",
    "plt.xticks([1, 2, 3], ['지점A', '지점B', '지점C'])\n",
    "plt.show"
   ]
  },
  {
   "cell_type": "markdown",
   "id": "ab221ad9-2481-4299-a958-cb3dc64815df",
   "metadata": {},
   "source": [
    "## 정규성 검정\n",
    "- Shapiro-Wilk 검정"
   ]
  },
  {
   "cell_type": "code",
   "execution_count": 5,
   "id": "7f63bec5-44fb-49d9-b866-5925bd507e66",
   "metadata": {},
   "outputs": [],
   "source": [
    "from scipy import stats as st"
   ]
  },
  {
   "cell_type": "code",
   "execution_count": 6,
   "id": "76be5432-d88c-4c0c-96d8-0449d9771772",
   "metadata": {},
   "outputs": [
    {
     "name": "stdout",
     "output_type": "stream",
     "text": [
      "ShapiroResult(statistic=np.float64(0.9806113784179772), pvalue=np.float64(0.8415709891789398))\n",
      "ShapiroResult(statistic=np.float64(0.9756594683381399), pvalue=np.float64(0.7021590584338278))\n",
      "ShapiroResult(statistic=np.float64(0.9766118849758917), pvalue=np.float64(0.7301124246612438))\n"
     ]
    }
   ],
   "source": [
    "print(st.shapiro(A - B, ))\n",
    "print(st.shapiro(A - C))\n",
    "print(st.shapiro(B - C))\n"
   ]
  },
  {
   "cell_type": "markdown",
   "id": "0749a74c-06ec-419a-872a-58ad8c4cdcd9",
   "metadata": {},
   "source": [
    "[해석]\n",
    "- 모두 p-value > 0.05 : 각 변수간의 차이가, 모두 정규 분포를 뛴다는 것을 알 수 있음."
   ]
  },
  {
   "cell_type": "markdown",
   "id": "1deda5f0-fc38-48cb-b41c-13b1c5f60e57",
   "metadata": {},
   "source": [
    "## 등분산성 검정\n",
    "- 레빈 검정 (Levene's Test) - 권장\n",
    "- center='median'이 기본값이며, 평균(mean)보다 이상치에 덜 민감하여 더 안정적임"
   ]
  },
  {
   "cell_type": "code",
   "execution_count": 7,
   "id": "f5e052f0-fad6-4eeb-af97-5b953b160986",
   "metadata": {},
   "outputs": [
    {
     "name": "stdout",
     "output_type": "stream",
     "text": [
      "levene_st : 1.244640322359082, levene_p_val : 0.29312188689352464\n"
     ]
    }
   ],
   "source": [
    "levene_st, levene_p_val = st.levene(A, B, C, center='median')\n",
    "print(f'levene_st : {levene_st}, levene_p_val : {levene_p_val}')"
   ]
  },
  {
   "cell_type": "markdown",
   "id": "2f1567b0-d6bd-498e-b0e7-bbc42db7bd91",
   "metadata": {},
   "source": [
    "[해석]\n",
    "- p-value > 0.05, 샘플 간 분산이 유사하다고 판단할 수 있음"
   ]
  },
  {
   "cell_type": "markdown",
   "id": "edd41ba2-1d5a-443e-862f-8e2df331088d",
   "metadata": {},
   "source": [
    "## 일원분산 분석 수행"
   ]
  },
  {
   "cell_type": "code",
   "execution_count": 8,
   "id": "875d83ac-097a-49a2-967b-d6ae56ed9c2e",
   "metadata": {},
   "outputs": [
    {
     "name": "stdout",
     "output_type": "stream",
     "text": [
      "F_onewayResult(statistic=np.float64(178.43825416847133), pvalue=np.float64(1.6337420285664832e-31))\n"
     ]
    }
   ],
   "source": [
    "print(st.f_oneway(A, B, C))"
   ]
  },
  {
   "cell_type": "markdown",
   "id": "e078607f-4b7f-412a-a956-caf352a4f493",
   "metadata": {},
   "source": [
    "[해석]\n",
    "- p-value <= 0.05 : 거의 0에 가까우므로, 귀무가설을 강력하게 기각함\n",
    "최소 하나의 그룹은 다른 그룹의 평균과 다르다고 판단할 수 있음"
   ]
  },
  {
   "cell_type": "markdown",
   "id": "9a90017f-41fb-4d11-b8f9-2c29b71c8375",
   "metadata": {},
   "source": [
    "## 사후 분석"
   ]
  },
  {
   "cell_type": "code",
   "execution_count": 10,
   "id": "591d45b8-46e4-4429-b4ff-105b8305a11a",
   "metadata": {},
   "outputs": [],
   "source": [
    "from statsmodels.stats import multicomp as mp"
   ]
  },
  {
   "cell_type": "code",
   "execution_count": 11,
   "id": "0f4f059d-3a95-432d-a51f-5d488019ea76",
   "metadata": {},
   "outputs": [
    {
     "name": "stdout",
     "output_type": "stream",
     "text": [
      "[124, 147, 129, 123, 147, 149, 140, 142, 124, 166, 127, 130, 139, 121, 149, 155, 140, 150, 137, 144, 136, 126, 150, 142, 149, 127, 140, 138, 128, 117, 118, 141, 130, 127, 107, 140, 146, 122, 160, 157, 141, 142, 150, 136, 157, 107, 172, 126, 135, 115, 133, 132, 127, 128, 142, 161, 140, 125, 142, 135, 216, 214, 212, 179, 222, 238, 218, 200, 186, 188, 216, 183, 198, 199, 187, 183, 190, 161, 203, 192, 235, 208, 187, 201, 196, 202, 209, 179, 197, 204]\n",
      "['A', 'A', 'A', 'A', 'A', 'A', 'A', 'A', 'A', 'A', 'A', 'A', 'A', 'A', 'A', 'A', 'A', 'A', 'A', 'A', 'A', 'A', 'A', 'A', 'A', 'A', 'A', 'A', 'A', 'A', 'B', 'B', 'B', 'B', 'B', 'B', 'B', 'B', 'B', 'B', 'B', 'B', 'B', 'B', 'B', 'B', 'B', 'B', 'B', 'B', 'B', 'B', 'B', 'B', 'B', 'B', 'B', 'B', 'B', 'B', 'C', 'C', 'C', 'C', 'C', 'C', 'C', 'C', 'C', 'C', 'C', 'C', 'C', 'C', 'C', 'C', 'C', 'C', 'C', 'C', 'C', 'C', 'C', 'C', 'C', 'C', 'C', 'C', 'C', 'C']\n"
     ]
    }
   ],
   "source": [
    "# 분석 대상 데이터\n",
    "Data = A.tolist() + B.tolist() + C.tolist()\n",
    "# 각 값이 속한 그룹 이름\n",
    "Group = ['A'] * len(A) + ['B'] * len(B) + ['C'] * len(C)\n",
    "print(Data)\n",
    "print(Group)"
   ]
  },
  {
   "cell_type": "code",
   "execution_count": 12,
   "id": "2361dcad-874e-4ccc-836a-cc6477a08971",
   "metadata": {},
   "outputs": [
    {
     "name": "stdout",
     "output_type": "stream",
     "text": [
      " Multiple Comparison of Means - Tukey HSD, FWER=0.05 \n",
      "=====================================================\n",
      "group1 group2 meandiff p-adj   lower    upper  reject\n",
      "-----------------------------------------------------\n",
      "     A      B     -1.4 0.9297 -10.5741  7.7741  False\n",
      "     A      C  62.2333    0.0  53.0592 71.4075   True\n",
      "     B      C  63.6333    0.0  54.4592 72.8075   True\n",
      "-----------------------------------------------------\n"
     ]
    }
   ],
   "source": [
    "# 사후 분석\n",
    "print(mp.pairwise_tukeyhsd(Data, Group))"
   ]
  },
  {
   "cell_type": "markdown",
   "id": "276f5d44-9d26-4878-a873-e36314e817bb",
   "metadata": {},
   "source": [
    "[해석]\n",
    "\n",
    "- 결론: [A, B] / [C]로 데이터가 구분됨\n",
    "- reject False, p-adj > 0.05\n",
    "    - A - B는 유의한 차이가 존재하지 않음\n",
    "- reject True, p-adj <= 0.05\n",
    "    - A - C는 유의한 차이 존재\n",
    "- reject True, p-adj <= 0.05\n",
    "    - B - C는 유의한 차이 존재\n",
    "      \n",
    "[tip] reject의 의미\n",
    "- False : 귀무가설 기각하지 않음.\n",
    "- True : 귀무가설을 기각함.\n",
    "  \n",
    "[tip] statsmodels 라이브러리\n",
    "- !pip install statsmodels\n",
    "- 회귀 분석, 시계열 분석, 분산 분석(ANOVA), 가설 검정 등 다양한 통계 기법을 포함하고 있어, 데이터 분석 및 경제학, 사회과학 연구 등에서 널리 사용\n"
   ]
  },
  {
   "cell_type": "code",
   "execution_count": null,
   "id": "56aeb4bc-b9c3-4f48-9bf1-585e1582bb60",
   "metadata": {},
   "outputs": [],
   "source": []
  }
 ],
 "metadata": {
  "kernelspec": {
   "display_name": "eda_env",
   "language": "python",
   "name": "eda_env"
  },
  "language_info": {
   "codemirror_mode": {
    "name": "ipython",
    "version": 3
   },
   "file_extension": ".py",
   "mimetype": "text/x-python",
   "name": "python",
   "nbconvert_exporter": "python",
   "pygments_lexer": "ipython3",
   "version": "3.10.18"
  }
 },
 "nbformat": 4,
 "nbformat_minor": 5
}
