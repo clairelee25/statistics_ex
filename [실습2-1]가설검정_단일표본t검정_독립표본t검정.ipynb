{
 "cells": [
  {
   "cell_type": "markdown",
   "id": "af85788f-99c1-420f-b851-545d4edb1851",
   "metadata": {},
   "source": [
    "# 단일 표본 t 검정"
   ]
  },
  {
   "cell_type": "markdown",
   "id": "3af3d4f2-3a7f-4a7e-af22-b7bb486a743e",
   "metadata": {},
   "source": [
    "[문제]\n",
    "- 성인 여성 25명의 키 데이터\n",
    "- 평균, 표준편차 계산\n",
    "- ks-정규성 검정 실행\n",
    "- 임의의 어떤 값 163은 평균 값에 근사할까?"
   ]
  },
  {
   "cell_type": "code",
   "execution_count": 1,
   "id": "33034570-c9b1-4f3f-bbbc-ef6a05850040",
   "metadata": {},
   "outputs": [
    {
     "name": "stdout",
     "output_type": "stream",
     "text": [
      "[150.27, 142.94, 160.99, 157.48, 153.46, 137.5, 154.94, 159.51, 171.87, 143.69, 153.65, 160.25, 153.07, 154.42, 141.21, 154.17, 162.56, 164.44, 172.36, 141.51, 169.4, 167.97, 170.26, 157.8, 167.61]\n",
      "25\n"
     ]
    }
   ],
   "source": [
    "# data  로딩\n",
    "with open('./datas2/성인여성_키_데이터.txt', 'r') as f:\n",
    "    data = f.read().split('\\n')\n",
    "    # print(data)\n",
    "    data = map(float, data) #리스트 요소가 문자열 -> float\n",
    "    data = list(data) # map 함수의 결과를 list로 형변환 -> 출력\n",
    "    print(data)\n",
    "    print(len(data))"
   ]
  },
  {
   "cell_type": "markdown",
   "id": "06893d2e-ebbc-481c-8c17-8d1717631015",
   "metadata": {},
   "source": [
    "## 가설 설정\n",
    "- H0 : 표본 데이터의 평균은 163과 같다\n",
    "- H1 : 표본 데이터의 평균은 163과 다르다."
   ]
  },
  {
   "cell_type": "code",
   "execution_count": 2,
   "id": "acb66e67-d59f-4ae9-8d15-32cbb22972b1",
   "metadata": {},
   "outputs": [
    {
     "data": {
      "text/plain": [
       "(np.float64(156.9332), np.float64(9.974187774450611))"
      ]
     },
     "execution_count": 2,
     "metadata": {},
     "output_type": "execute_result"
    }
   ],
   "source": [
    "#데이터의 평균과 표준편차 구하기\n",
    "\n",
    "import numpy as np\n",
    "#평균\n",
    "mean_value = np.mean(data)\n",
    "#표준편차\n",
    "std_dev = np.std(data, ddof=0) #모집단의 표준편차\n",
    "mean_value, std_dev"
   ]
  },
  {
   "cell_type": "markdown",
   "id": "f713891a-cd78-460d-acb9-422147f80cfa",
   "metadata": {},
   "source": [
    "## 정규성 검정 (ks-test)"
   ]
  },
  {
   "cell_type": "code",
   "execution_count": 3,
   "id": "73751a02-5943-4969-9b40-8986488b799a",
   "metadata": {},
   "outputs": [],
   "source": [
    "from scipy.stats import *  #stats 모듈의 모든 내용을 로딩\n",
    "# from scipy import stats\n",
    "import numpy as np"
   ]
  },
  {
   "cell_type": "code",
   "execution_count": 4,
   "id": "37392255-a8a3-4bb7-b930-c0afb3b01edd",
   "metadata": {},
   "outputs": [
    {
     "data": {
      "text/plain": [
       "(np.float64(0.10925974986314058), np.float64(0.8950958424230889))"
      ]
     },
     "execution_count": 4,
     "metadata": {},
     "output_type": "execute_result"
    }
   ],
   "source": [
    "# 정규성 검정 함수\n",
    "ks_stats, p_value = kstest(data, 'norm', args=(mean_value, std_dev))\n",
    "ks_stats, p_value"
   ]
  },
  {
   "cell_type": "markdown",
   "id": "b85b2f4c-5f0b-4d6a-b6f6-426af40546d9",
   "metadata": {},
   "source": [
    "# 단일표본 t검정 하기"
   ]
  },
  {
   "cell_type": "code",
   "execution_count": 5,
   "id": "28820e97-7819-48c4-b43c-575b37fc1535",
   "metadata": {},
   "outputs": [
    {
     "data": {
      "text/plain": [
       "TtestResult(statistic=np.float64(-2.979804412662668), pvalue=np.float64(0.006510445335847954), df=np.int64(24))"
      ]
     },
     "execution_count": 5,
     "metadata": {},
     "output_type": "execute_result"
    }
   ],
   "source": [
    "ttest_1samp(data, 163)"
   ]
  },
  {
   "cell_type": "markdown",
   "id": "b4be23e4-4d6f-4789-9c22-07511c97c2cd",
   "metadata": {},
   "source": [
    "# 독립 표본 t검정\n",
    "- 두 그룹 A, B의 차이를 검증할 때 사용하는 검증 방법"
   ]
  },
  {
   "cell_type": "code",
   "execution_count": 6,
   "id": "587debd9-d0b4-4311-994b-624e4aaf1907",
   "metadata": {},
   "outputs": [],
   "source": [
    "# 문제 : A, B반의 점수 차이가 있는지 검증하기\n",
    "# [가설 설정]\n",
    "# H0 : A반과 B반의 평균은 같다.\n",
    "# H1 : A반과 B반의 평균은 다르다."
   ]
  },
  {
   "cell_type": "code",
   "execution_count": 7,
   "id": "812694d1-bd72-4e9b-b99c-8e0ff645a54c",
   "metadata": {},
   "outputs": [],
   "source": [
    "import pandas as pd\n",
    "import numpy as np"
   ]
  },
  {
   "cell_type": "code",
   "execution_count": 8,
   "id": "592399d0-446e-4ed5-82b0-6284a16172ea",
   "metadata": {},
   "outputs": [
    {
     "data": {
      "text/html": [
       "<div>\n",
       "<style scoped>\n",
       "    .dataframe tbody tr th:only-of-type {\n",
       "        vertical-align: middle;\n",
       "    }\n",
       "\n",
       "    .dataframe tbody tr th {\n",
       "        vertical-align: top;\n",
       "    }\n",
       "\n",
       "    .dataframe thead th {\n",
       "        text-align: right;\n",
       "    }\n",
       "</style>\n",
       "<table border=\"1\" class=\"dataframe\">\n",
       "  <thead>\n",
       "    <tr style=\"text-align: right;\">\n",
       "      <th></th>\n",
       "      <th>반</th>\n",
       "      <th>점수</th>\n",
       "    </tr>\n",
       "  </thead>\n",
       "  <tbody>\n",
       "    <tr>\n",
       "      <th>25</th>\n",
       "      <td>B</td>\n",
       "      <td>77</td>\n",
       "    </tr>\n",
       "    <tr>\n",
       "      <th>26</th>\n",
       "      <td>B</td>\n",
       "      <td>75</td>\n",
       "    </tr>\n",
       "    <tr>\n",
       "      <th>27</th>\n",
       "      <td>B</td>\n",
       "      <td>65</td>\n",
       "    </tr>\n",
       "    <tr>\n",
       "      <th>28</th>\n",
       "      <td>B</td>\n",
       "      <td>61</td>\n",
       "    </tr>\n",
       "    <tr>\n",
       "      <th>29</th>\n",
       "      <td>B</td>\n",
       "      <td>55</td>\n",
       "    </tr>\n",
       "  </tbody>\n",
       "</table>\n",
       "</div>"
      ],
      "text/plain": [
       "    반  점수\n",
       "25  B  77\n",
       "26  B  75\n",
       "27  B  65\n",
       "28  B  61\n",
       "29  B  55"
      ]
     },
     "execution_count": 8,
     "metadata": {},
     "output_type": "execute_result"
    }
   ],
   "source": [
    "df1 = pd.read_csv('./datas2/반별_점수_type1.csv', encoding = 'euc-kr')\n",
    "df1.tail()"
   ]
  },
  {
   "cell_type": "code",
   "execution_count": 9,
   "id": "b406de62-06d4-4fca-a916-69895250b42c",
   "metadata": {},
   "outputs": [
    {
     "data": {
      "text/plain": [
       "반\n",
       "A    20\n",
       "B    10\n",
       "Name: count, dtype: int64"
      ]
     },
     "execution_count": 9,
     "metadata": {},
     "output_type": "execute_result"
    }
   ],
   "source": [
    "# 데이터프레임에서 반 칼럼의 유니크한 값의 갯수 확인\n",
    "df1['반'].value_counts()"
   ]
  },
  {
   "cell_type": "markdown",
   "id": "cb26ac42-5bd0-483d-88f2-7e23491cb59b",
   "metadata": {},
   "source": [
    "### A반, B반 데이터 분리하기"
   ]
  },
  {
   "cell_type": "code",
   "execution_count": 10,
   "id": "9326cd66-9cdc-4960-9f28-3e1b3d3e551e",
   "metadata": {},
   "outputs": [],
   "source": [
    "# A반의 점수만 추출\n",
    "groupA = df1['점수'].loc[df1['반']=='A'].values\n",
    "groupB = df1['점수'].loc[df1['반']=='B'].values\n",
    "# print(groupA)"
   ]
  },
  {
   "cell_type": "code",
   "execution_count": 11,
   "id": "76c6737a-f169-47c1-9b44-ec917bb5fcf1",
   "metadata": {},
   "outputs": [
    {
     "data": {
      "text/plain": [
       "10"
      ]
     },
     "execution_count": 11,
     "metadata": {},
     "output_type": "execute_result"
    }
   ],
   "source": [
    "len(groupB)"
   ]
  },
  {
   "cell_type": "code",
   "execution_count": 12,
   "id": "e80d7aab-caef-415e-8c0f-c98987c4cdb7",
   "metadata": {},
   "outputs": [
    {
     "data": {
      "text/plain": [
       "(np.float64(70.55), np.float64(5.67983506061483))"
      ]
     },
     "execution_count": 12,
     "metadata": {},
     "output_type": "execute_result"
    }
   ],
   "source": [
    "meanA = np.mean(groupA)\n",
    "stdA = np.std(groupA, ddof=1)\n",
    "meanA, stdA"
   ]
  },
  {
   "cell_type": "code",
   "execution_count": 13,
   "id": "3a76c813-e577-4481-87e4-dcc50e1c4dd5",
   "metadata": {},
   "outputs": [
    {
     "data": {
      "text/plain": [
       "(np.float64(64.1), np.float64(8.279157230325104))"
      ]
     },
     "execution_count": 13,
     "metadata": {},
     "output_type": "execute_result"
    }
   ],
   "source": [
    "meanB = np.mean(groupB)\n",
    "stdB = np.std(groupB, ddof=1)\n",
    "meanB, stdB"
   ]
  },
  {
   "cell_type": "code",
   "execution_count": 14,
   "id": "f8fd4301-a004-42c4-ae5a-97c5cf8e6de4",
   "metadata": {},
   "outputs": [
    {
     "name": "stdout",
     "output_type": "stream",
     "text": [
      "A반 평균: 70.55, 표준 편차: 5.68\n",
      "B반 평균: 64.10, 표준 편차: 8.28\n"
     ]
    }
   ],
   "source": [
    "print(f\"A반 평균: {meanA:.2f}, 표준 편차: {stdA:.2f}\")\n",
    "print(f\"B반 평균: {meanB:.2f}, 표준 편차: {stdB:.2f}\")"
   ]
  },
  {
   "cell_type": "markdown",
   "id": "a5164b73-745b-448a-8cf0-86e050f300ad",
   "metadata": {},
   "source": [
    "### 정규성 검정"
   ]
  },
  {
   "cell_type": "code",
   "execution_count": 29,
   "id": "fb1645d8-8113-4942-ac7a-e05e903923e9",
   "metadata": {},
   "outputs": [
    {
     "name": "stdout",
     "output_type": "stream",
     "text": [
      "KstestResult(statistic=np.float64(0.13310674849448567), pvalue=np.float64(0.8254564220619713), statistic_location=np.int64(73), statistic_sign=np.int8(1))\n",
      "KstestResult(statistic=np.float64(0.15881009358601705), pvalue=np.float64(0.9295432555006241), statistic_location=np.int64(73), statistic_sign=np.int8(-1))\n"
     ]
    }
   ],
   "source": [
    "print(kstest(groupA, 'norm', args=(np.mean(groupA), np.std(groupA, ddof=1))))\n",
    "print(kstest(groupB, 'norm', args=(np.mean(groupB), np.std(groupB, ddof=1))))"
   ]
  },
  {
   "cell_type": "markdown",
   "id": "7e5384e9-af58-428c-8c17-27137c1477e1",
   "metadata": {},
   "source": [
    "## 등분산 검정"
   ]
  },
  {
   "cell_type": "code",
   "execution_count": 30,
   "id": "59abed0b-cf8b-42fe-8ea4-3c56622b7bbf",
   "metadata": {},
   "outputs": [
    {
     "data": {
      "text/plain": [
       "LeveneResult(statistic=np.float64(2.033067087400979), pvalue=np.float64(0.16496408622210104))"
      ]
     },
     "execution_count": 30,
     "metadata": {},
     "output_type": "execute_result"
    }
   ],
   "source": [
    "# 그룹A와 그룹B가 같은 분산 인지 확인하기 위해 levene() 검정 사용\n",
    "levene(groupA, groupB)"
   ]
  },
  {
   "cell_type": "code",
   "execution_count": 31,
   "id": "4cd0547c-b812-4f83-8afc-4d633a640507",
   "metadata": {},
   "outputs": [
    {
     "data": {
      "text/plain": [
       "np.float64(32.26052631578948)"
      ]
     },
     "execution_count": 31,
     "metadata": {},
     "output_type": "execute_result"
    }
   ],
   "source": [
    "np.var(groupA, ddof=1)"
   ]
  },
  {
   "cell_type": "code",
   "execution_count": 32,
   "id": "45ea4263-c14c-4d79-bf2a-83b6e9fe61e0",
   "metadata": {},
   "outputs": [
    {
     "data": {
      "text/plain": [
       "np.float64(68.54444444444445)"
      ]
     },
     "execution_count": 32,
     "metadata": {},
     "output_type": "execute_result"
    }
   ],
   "source": [
    "np.var(groupB, ddof=1)"
   ]
  },
  {
   "cell_type": "markdown",
   "id": "c8bf371c-cf44-47fd-bb28-a3a3dc90f921",
   "metadata": {},
   "source": [
    "## 독립표본 t-검정 수행"
   ]
  },
  {
   "cell_type": "code",
   "execution_count": 33,
   "id": "9eb20a36-3a1a-4597-99ae-1572a4332370",
   "metadata": {},
   "outputs": [
    {
     "name": "stdout",
     "output_type": "stream",
     "text": [
      "TtestResult(statistic=np.float64(2.5128526794964134), pvalue=np.float64(0.01801095352893767), df=np.float64(28.0))\n"
     ]
    }
   ],
   "source": [
    "# A와 B간에는 차이가 존재함을 확인\n",
    "# equal_var = True(등분산 만족)\n",
    "print(ttest_ind(groupA, groupB, equal_var= True))"
   ]
  },
  {
   "cell_type": "markdown",
   "id": "1376bb94-5557-4db7-8b97-9cc9b4314986",
   "metadata": {},
   "source": [
    "# 비즈니스 상황에서 적용"
   ]
  },
  {
   "cell_type": "markdown",
   "id": "3d724f25-99ab-4cec-b121-470a69c05ba8",
   "metadata": {},
   "source": [
    "- 단일표본 t-검정, 독립표본 t-검정 관심 도메인에서 사용 예시 1개씩 찾아서 공유하기"
   ]
  },
  {
   "cell_type": "code",
   "execution_count": null,
   "id": "66d035a6-4997-4483-8db0-b2fd8e81aea7",
   "metadata": {},
   "outputs": [],
   "source": []
  }
 ],
 "metadata": {
  "kernelspec": {
   "display_name": "eda_env",
   "language": "python",
   "name": "eda_env"
  },
  "language_info": {
   "codemirror_mode": {
    "name": "ipython",
    "version": 3
   },
   "file_extension": ".py",
   "mimetype": "text/x-python",
   "name": "python",
   "nbconvert_exporter": "python",
   "pygments_lexer": "ipython3",
   "version": "3.10.18"
  }
 },
 "nbformat": 4,
 "nbformat_minor": 5
}
