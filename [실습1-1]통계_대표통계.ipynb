{
 "cells": [
  {
   "cell_type": "markdown",
   "id": "1b7d3a4e-5555-4626-a9c1-724a01887858",
   "metadata": {},
   "source": [
    "# 대표 통계량"
   ]
  },
  {
   "cell_type": "code",
   "execution_count": 2,
   "id": "92a5597b-4645-43b3-a5a0-f70d31d33839",
   "metadata": {
    "editable": true,
    "slideshow": {
     "slide_type": ""
    },
    "tags": []
   },
   "outputs": [],
   "source": [
    "import numpy as np\n",
    "from scipy import stats\n",
    "import pandas as pd"
   ]
  },
  {
   "cell_type": "code",
   "execution_count": 2,
   "id": "5f14f2fa-f79f-4397-ad5e-bd04b618dd62",
   "metadata": {
    "editable": true,
    "slideshow": {
     "slide_type": ""
    },
    "tags": []
   },
   "outputs": [],
   "source": [
    "import numpy as np\n",
    "from scipy import stats\n",
    "import pandas as pd"
   ]
  },
  {
   "cell_type": "markdown",
   "id": "1d327e86-3c64-4a00-a39e-50e5fc9bb6b2",
   "metadata": {},
   "source": [
    "# 산술평균 계산"
   ]
  },
  {
   "cell_type": "code",
   "execution_count": 9,
   "id": "1d8e6110-94c0-47f7-b177-033120d6c149",
   "metadata": {},
   "outputs": [
    {
     "data": {
      "text/plain": [
       "np.float64(64.0)"
      ]
     },
     "execution_count": 9,
     "metadata": {},
     "output_type": "execute_result"
    }
   ],
   "source": [
    "# 성적 평균 구하기\n",
    "x = [70, 60, 80, 60, 50]\n",
    "# np.sum(x)/len(x)\n",
    "# sum(x)/len(x)\n",
    "# np.array(x).mean()\n",
    "pd.Series(x).mean()"
   ]
  },
  {
   "cell_type": "markdown",
   "id": "b17723dc-70e8-404c-a9da-4b6e37dd0a14",
   "metadata": {},
   "source": [
    "# 조화 평균 구하기"
   ]
  },
  {
   "cell_type": "code",
   "execution_count": 10,
   "id": "ddf0320e-b539-4a35-a7fe-c01f806bdab8",
   "metadata": {},
   "outputs": [],
   "source": [
    "# 상황: 두 생산 라인이 동일한 수의 제품(작업량)을 생산하지만, \n",
    "# 각 라인의 처리 속도가 다를 때 평균 처리 속도를 계산하기\n",
    "\n",
    "# 라인 A: 60개/시간, 라인 B: 30개/시간  → 동일 작업량(120개 제품 생산) 처리 시 평균 처리속도\n"
   ]
  },
  {
   "cell_type": "code",
   "execution_count": 14,
   "id": "0fecc57e-194b-4f4d-ba95-564330478903",
   "metadata": {},
   "outputs": [
    {
     "name": "stdout",
     "output_type": "stream",
     "text": [
      "40.0\n",
      "40.0\n"
     ]
    }
   ],
   "source": [
    "x = np.array([60, 30])\n",
    "print(len(x) / np.sum(1/x))\n",
    "print(stats.hmean(x))"
   ]
  },
  {
   "cell_type": "markdown",
   "id": "0ca1225b-ab37-4518-9c58-7cd540b40083",
   "metadata": {},
   "source": [
    "## 절사 평균 계산"
   ]
  },
  {
   "cell_type": "code",
   "execution_count": 18,
   "id": "1c8f1da3-b41e-4c82-b425-1ce2c4686afe",
   "metadata": {},
   "outputs": [
    {
     "name": "stdout",
     "output_type": "stream",
     "text": [
      "12968840.96\n"
     ]
    },
    {
     "data": {
      "text/plain": [
       "np.float64(3115204.818890545)"
      ]
     },
     "execution_count": 18,
     "metadata": {},
     "output_type": "execute_result"
    }
   ],
   "source": [
    "income = np.random.normal(3000000, 500000, 100)\n",
    "income = np.append(income, 10**9)\n",
    "print(round(np.mean(income), 2))\n",
    "stats.trim_mean(income, 0.2) #양 끝 20%는 제외하고 계산"
   ]
  },
  {
   "cell_type": "markdown",
   "id": "4a44e399-6e37-46e3-89ea-b20afddbde5d",
   "metadata": {},
   "source": [
    "## 최빈값 계산"
   ]
  },
  {
   "cell_type": "code",
   "execution_count": 22,
   "id": "dda7b996-c1df-42b5-801c-cdf2c678b6a3",
   "metadata": {},
   "outputs": [
    {
     "name": "stdout",
     "output_type": "stream",
     "text": [
      "1000\n"
     ]
    }
   ],
   "source": [
    "x = np.random.choice(['A', 'B', 'C'], 1000) #A, B, C라는 요소로 데이터 1000개 만들기\n",
    "x[:5]\n",
    "print(len(x))"
   ]
  },
  {
   "cell_type": "code",
   "execution_count": 24,
   "id": "5af002aa-be5e-4c06-b081-22e8a9b2cfef",
   "metadata": {},
   "outputs": [
    {
     "data": {
      "text/plain": [
       "array(['A', 'B', 'C'], dtype='<U1')"
      ]
     },
     "execution_count": 24,
     "metadata": {},
     "output_type": "execute_result"
    }
   ],
   "source": [
    "# 유니크한 값만 추출\n",
    "np.unique(x)"
   ]
  },
  {
   "cell_type": "code",
   "execution_count": 26,
   "id": "9d941bce-a10c-45a1-a850-473d5b85d14e",
   "metadata": {
    "scrolled": true
   },
   "outputs": [
    {
     "data": {
      "text/plain": [
       "'A'"
      ]
     },
     "execution_count": 26,
     "metadata": {},
     "output_type": "execute_result"
    }
   ],
   "source": [
    "pd.Series(x).value_counts().index[0] # 맨 앞에 있는 것이 최빈 값"
   ]
  },
  {
   "cell_type": "code",
   "execution_count": 38,
   "id": "fd84b108-ef94-4065-85f5-ee3cc01c8390",
   "metadata": {},
   "outputs": [
    {
     "name": "stdout",
     "output_type": "stream",
     "text": [
      "최빈값 : A, 최빈값의 빈도수 : 357\n"
     ]
    }
   ],
   "source": [
    "#pyhton collecting 사용\n",
    "from collections import Counter\n",
    "# print(dict(Counter(x)))\n",
    "counter = Counter(x)\n",
    "mode_value, mode_cnt = counter.most_common(1)[0] # 최빈값과 빈도수 추출\n",
    "print(f'최빈값 : {mode_value}, 최빈값의 빈도수 : {mode_cnt}')"
   ]
  },
  {
   "cell_type": "markdown",
   "id": "5e9df09f-4b08-463e-a171-4e34659446a7",
   "metadata": {},
   "source": [
    "## 데이터의 대표값"
   ]
  },
  {
   "cell_type": "code",
   "execution_count": 39,
   "id": "4b6ff2d2-e702-4b06-93f3-682b8f8dea2f",
   "metadata": {},
   "outputs": [],
   "source": [
    "#평균, 중앙값, 최빈값 구하기"
   ]
  },
  {
   "cell_type": "code",
   "execution_count": 61,
   "id": "71c61a85-dde0-4c62-bc93-f0e90abc6ee6",
   "metadata": {},
   "outputs": [],
   "source": [
    "#데이터 생성\n",
    "np.random.seed(2024)\n",
    "data = np.random.randint(0,5,10)"
   ]
  },
  {
   "cell_type": "code",
   "execution_count": 62,
   "id": "c27abbdd-0e05-4f54-baf0-c9ed18696f36",
   "metadata": {},
   "outputs": [
    {
     "data": {
      "text/plain": [
       "array([0, 0, 0, 1, 1, 2, 3, 3, 4, 4], dtype=int32)"
      ]
     },
     "execution_count": 62,
     "metadata": {},
     "output_type": "execute_result"
    }
   ],
   "source": [
    "data.sort()\n",
    "data\n",
    "# np.median(data)"
   ]
  },
  {
   "cell_type": "code",
   "execution_count": 59,
   "id": "4e68aae6-827e-4d31-91dc-346c7805cb17",
   "metadata": {},
   "outputs": [
    {
     "data": {
      "text/plain": [
       "np.float64(2.0)"
      ]
     },
     "execution_count": 59,
     "metadata": {},
     "output_type": "execute_result"
    }
   ],
   "source": [
    "mean_val = np.mean(data)\n",
    "median_val = np.median(data)\n",
    "median_val"
   ]
  },
  {
   "cell_type": "code",
   "execution_count": 64,
   "id": "bbfae69b-de38-420c-a593-9e08a6f2fe7b",
   "metadata": {},
   "outputs": [
    {
     "data": {
      "text/plain": [
       "ModeResult(mode=np.int32(0), count=np.int64(3))"
      ]
     },
     "execution_count": 64,
     "metadata": {},
     "output_type": "execute_result"
    }
   ],
   "source": [
    "mode_val = stats.mode(data)\n",
    "mode_val"
   ]
  },
  {
   "cell_type": "code",
   "execution_count": 67,
   "id": "e601e5e1-beb9-4620-8604-55b01d379814",
   "metadata": {},
   "outputs": [
    {
     "name": "stdout",
     "output_type": "stream",
     "text": [
      "최빈값 : 0, 최빈 갯수 3\n"
     ]
    }
   ],
   "source": [
    "print(f'최빈값 : {mode_val.mode}, 최빈 갯수 {mode_val.count}')"
   ]
  },
  {
   "cell_type": "code",
   "execution_count": null,
   "id": "72dbd2f0-4387-4cec-a795-9d41a5caac59",
   "metadata": {
    "editable": true,
    "slideshow": {
     "slide_type": ""
    },
    "tags": []
   },
   "outputs": [],
   "source": []
  }
 ],
 "metadata": {
  "kernelspec": {
   "display_name": "eda_env",
   "language": "python",
   "name": "eda_env"
  },
  "language_info": {
   "codemirror_mode": {
    "name": "ipython",
    "version": 3
   },
   "file_extension": ".py",
   "mimetype": "text/x-python",
   "name": "python",
   "nbconvert_exporter": "python",
   "pygments_lexer": "ipython3",
   "version": "3.10.18"
  }
 },
 "nbformat": 4,
 "nbformat_minor": 5
}
